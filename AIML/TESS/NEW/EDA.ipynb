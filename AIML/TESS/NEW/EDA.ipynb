{
 "cells": [
  {
   "cell_type": "code",
   "execution_count": 2,
   "id": "8ca2fb5d",
   "metadata": {},
   "outputs": [
    {
     "name": "stdout",
     "output_type": "stream",
     "text": [
      "✅ Exported: tess_toi_tier1.csv, tess_toi_tier2.csv, tess_toi_tier3.csv\n"
     ]
    }
   ],
   "source": [
    "import pandas as pd\n",
    "\n",
    "# Load your dataset\n",
    "df = pd.read_csv(\"TESS.csv\")\n",
    "\n",
    "# --- Tier 1 (Core predictive features) ---\n",
    "tier1_features = [\n",
    "    \"toi\", \"tfopwg_disp\",   # always keep\n",
    "    \"pl_orbper\", \"pl_trandurh\", \"pl_trandep\",\n",
    "    \"pl_rade\", \"pl_insol\", \"pl_eqt\",\n",
    "    \"st_teff\", \"st_logg\", \"st_rad\",\n",
    "    \"st_tmag\", \"st_dist\"\n",
    "]\n",
    "df_tier1 = df[tier1_features]\n",
    "df_tier1.to_csv(\"tess_toi_tier1.csv\", index=False)\n",
    "\n",
    "# --- Tier 2 (Tier 1 + additional useful features & uncertainties) ---\n",
    "tier2_features = tier1_features + [\n",
    "    # Orbital/transit uncertainties\n",
    "    \"pl_orbpererr1\", \"pl_orbpererr2\",\n",
    "    \"pl_trandurherr1\", \"pl_trandurherr2\",\n",
    "    \"pl_trandeperr1\", \"pl_trandeperr2\",\n",
    "    \"pl_radeerr1\", \"pl_radeerr2\",\n",
    "    \"pl_insolerr1\", \"pl_insolerr2\",\n",
    "    \"pl_eqterr1\", \"pl_eqterr2\",\n",
    "    # Stellar uncertainties\n",
    "    \"st_tefferr1\", \"st_tefferr2\",\n",
    "    \"st_loggerr1\", \"st_loggerr2\",\n",
    "    \"st_raderr1\", \"st_raderr2\",\n",
    "    \"st_tmagerr1\", \"st_tmagerr2\",\n",
    "    \"st_disterr1\", \"st_disterr2\"\n",
    "]\n",
    "df_tier2 = df[[c for c in tier2_features if c in df.columns]]\n",
    "df_tier2.to_csv(\"tess_toi_tier2.csv\", index=False)\n",
    "\n",
    "# --- Tier 3 (All remaining astrophysical + positional + flags) ---\n",
    "tier3_features = list(df.columns)  # start with all\n",
    "# Ensure we don’t drop core label/id\n",
    "always_keep = [\"toi\", \"tfopwg_disp\"]\n",
    "# Drop known non-informative ID/metadata\n",
    "drop_cols = [\n",
    "    \"toipfx\", \"tid\", \"ctoi_alias\", \"pl_pnum\",\n",
    "    \"rastr\", \"decstr\",\n",
    "    \"toi_created\", \"rowupdate\"\n",
    "]\n",
    "tier3_features = [c for c in tier3_features if c not in drop_cols]\n",
    "df_tier3 = df[tier3_features]\n",
    "df_tier3.to_csv(\"tess_toi_tier3.csv\", index=False)\n",
    "\n",
    "print(\"✅ Exported: tess_toi_tier1.csv, tess_toi_tier2.csv, tess_toi_tier3.csv\")\n"
   ]
  }
 ],
 "metadata": {
  "kernelspec": {
   "display_name": "GPU",
   "language": "python",
   "name": "python3"
  },
  "language_info": {
   "codemirror_mode": {
    "name": "ipython",
    "version": 3
   },
   "file_extension": ".py",
   "mimetype": "text/x-python",
   "name": "python",
   "nbconvert_exporter": "python",
   "pygments_lexer": "ipython3",
   "version": "3.9.23"
  }
 },
 "nbformat": 4,
 "nbformat_minor": 5
}
